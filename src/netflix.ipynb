{
  "cells": [
    {
      "cell_type": "markdown",
      "metadata": {
        "id": "view-in-github",
        "colab_type": "text"
      },
      "source": [
        "<a href=\"https://colab.research.google.com/github/esteniocouto/netflix-conjunto-de-dados/blob/main/src/netflix.ipynb\" target=\"_parent\"><img src=\"https://colab.research.google.com/assets/colab-badge.svg\" alt=\"Open In Colab\"/></a>"
      ]
    },
    {
      "cell_type": "markdown",
      "metadata": {
        "id": "gkCfyubnju1S"
      },
      "source": [
        "# bibliotecas"
      ]
    },
    {
      "cell_type": "code",
      "source": [
        "import pandas as pd\n",
        "import glob\n",
        "import os"
      ],
      "metadata": {
        "id": "tFGxo7SFjzFr"
      },
      "execution_count": null,
      "outputs": []
    },
    {
      "cell_type": "markdown",
      "source": [
        "# Carregar os arquivos"
      ],
      "metadata": {
        "id": "Z6jQzf54j0cb"
      }
    },
    {
      "cell_type": "markdown",
      "source": [
        "**Pegar o nome do arquivo e criar uma coluna chamada location**"
      ],
      "metadata": {
        "id": "qB5VvVlNlvaD"
      }
    },
    {
      "cell_type": "markdown",
      "source": [
        "**Criar uma coluna com o nome dos pais de cada arquivo**"
      ],
      "metadata": {
        "id": "rhV-XFUgmEAi"
      }
    },
    {
      "cell_type": "markdown",
      "source": [
        "**Criar uma coluna chamada campaign**"
      ],
      "metadata": {
        "id": "G7gUZlnRm0c6"
      }
    },
    {
      "cell_type": "markdown",
      "source": [
        "**Guardar o dados em um datafreme**"
      ],
      "metadata": {
        "id": "r6Gdi3mcnBCS"
      }
    }
  ],
  "metadata": {
    "colab": {
      "provenance": [],
      "include_colab_link": true
    },
    "kernelspec": {
      "display_name": "Python 3",
      "name": "python3"
    },
    "language_info": {
      "codemirror_mode": {
        "name": "ipython",
        "version": 3
      },
      "file_extension": ".py",
      "mimetype": "text/x-python",
      "name": "python",
      "nbconvert_exporter": "python",
      "pygments_lexer": "ipython3",
      "version": "3.13.1"
    }
  },
  "nbformat": 4,
  "nbformat_minor": 0
}