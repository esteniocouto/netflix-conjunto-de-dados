{
  "cells": [
    {
      "cell_type": "markdown",
      "metadata": {
        "colab_type": "text",
        "id": "view-in-github"
      },
      "source": [
        "<a href=\"https://colab.research.google.com/github/esteniocouto/netflix-conjunto-de-dados/blob/main/netflix.ipynb\" target=\"_parent\"><img src=\"https://colab.research.google.com/assets/colab-badge.svg\" alt=\"Open In Colab\"/></a>"
      ]
    },
    {
      "cell_type": "markdown",
      "metadata": {},
      "source": [
        "bibliotecas"
      ]
    },
    {
      "cell_type": "code",
      "execution_count": 4,
      "metadata": {},
      "outputs": [
        {
          "name": "stdout",
          "output_type": "stream",
          "text": [
            "Collecting xlsxwriterNote: you may need to restart the kernel to use updated packages.\n",
            "\n",
            "  Downloading XlsxWriter-3.2.0-py3-none-any.whl.metadata (2.6 kB)\n",
            "Downloading XlsxWriter-3.2.0-py3-none-any.whl (159 kB)\n",
            "Installing collected packages: xlsxwriter\n",
            "Successfully installed xlsxwriter-3.2.0\n"
          ]
        }
      ],
      "source": [
        "pip install xlsxwriter"
      ]
    },
    {
      "cell_type": "code",
      "execution_count": 3,
      "metadata": {},
      "outputs": [
        {
          "name": "stdout",
          "output_type": "stream",
          "text": [
            "Collecting openpyxl\n",
            "  Downloading openpyxl-3.1.5-py2.py3-none-any.whl.metadata (2.5 kB)\n",
            "Collecting et-xmlfile (from openpyxl)\n",
            "  Downloading et_xmlfile-2.0.0-py3-none-any.whl.metadata (2.7 kB)\n",
            "Downloading openpyxl-3.1.5-py2.py3-none-any.whl (250 kB)\n",
            "Downloading et_xmlfile-2.0.0-py3-none-any.whl (18 kB)\n",
            "Installing collected packages: et-xmlfile, openpyxl\n",
            "Successfully installed et-xmlfile-2.0.0 openpyxl-3.1.5\n",
            "Note: you may need to restart the kernel to use updated packages.\n"
          ]
        }
      ],
      "source": [
        "pip install openpyxl"
      ]
    },
    {
      "cell_type": "code",
      "execution_count": 1,
      "metadata": {
        "id": "g5QiLZEHU-Kn"
      },
      "outputs": [
        {
          "name": "stdout",
          "output_type": "stream",
          "text": [
            "Collecting pandas\n",
            "  Downloading pandas-2.2.3-cp313-cp313-win_amd64.whl.metadata (19 kB)\n",
            "Collecting numpy>=1.26.0 (from pandas)\n",
            "  Downloading numpy-2.2.2-cp313-cp313-win_amd64.whl.metadata (60 kB)\n",
            "Requirement already satisfied: python-dateutil>=2.8.2 in c:\\users\\estenio\\appdata\\roaming\\python\\python313\\site-packages (from pandas) (2.9.0.post0)\n",
            "Collecting pytz>=2020.1 (from pandas)\n",
            "  Downloading pytz-2024.2-py2.py3-none-any.whl.metadata (22 kB)\n",
            "Collecting tzdata>=2022.7 (from pandas)\n",
            "  Downloading tzdata-2024.2-py2.py3-none-any.whl.metadata (1.4 kB)\n",
            "Requirement already satisfied: six>=1.5 in c:\\users\\estenio\\appdata\\roaming\\python\\python313\\site-packages (from python-dateutil>=2.8.2->pandas) (1.17.0)\n",
            "Downloading pandas-2.2.3-cp313-cp313-win_amd64.whl (11.5 MB)\n",
            "   ---------------------------------------- 0.0/11.5 MB ? eta -:--:--\n",
            "   ----- ---------------------------------- 1.6/11.5 MB 11.4 MB/s eta 0:00:01\n",
            "   ------------ --------------------------- 3.7/11.5 MB 8.9 MB/s eta 0:00:01\n",
            "   --------------------- ------------------ 6.0/11.5 MB 9.8 MB/s eta 0:00:01\n",
            "   -------------------------- ------------- 7.6/11.5 MB 9.3 MB/s eta 0:00:01\n",
            "   --------------------------------- ------ 9.7/11.5 MB 9.0 MB/s eta 0:00:01\n",
            "   ------------------------------------ --- 10.5/11.5 MB 8.6 MB/s eta 0:00:01\n",
            "   ---------------------------------------  11.3/11.5 MB 7.9 MB/s eta 0:00:01\n",
            "   ---------------------------------------  11.3/11.5 MB 7.9 MB/s eta 0:00:01\n",
            "   ---------------------------------------  11.3/11.5 MB 7.9 MB/s eta 0:00:01\n",
            "   ---------------------------------------  11.3/11.5 MB 7.9 MB/s eta 0:00:01\n",
            "   ---------------------------------------  11.3/11.5 MB 7.9 MB/s eta 0:00:01\n",
            "   ---------------------------------------  11.3/11.5 MB 7.9 MB/s eta 0:00:01\n",
            "   ---------------------------------------  11.3/11.5 MB 7.9 MB/s eta 0:00:01\n",
            "   ---------------------------------------  11.3/11.5 MB 7.9 MB/s eta 0:00:01\n",
            "   ---------------------------------------  11.3/11.5 MB 7.9 MB/s eta 0:00:01\n",
            "   ---------------------------------------- 11.5/11.5 MB 3.5 MB/s eta 0:00:00\n",
            "Downloading numpy-2.2.2-cp313-cp313-win_amd64.whl (12.6 MB)\n",
            "   ---------------------------------------- 0.0/12.6 MB ? eta -:--:--\n",
            "   - -------------------------------------- 0.5/12.6 MB 3.7 MB/s eta 0:00:04\n",
            "   --- ------------------------------------ 1.0/12.6 MB 2.9 MB/s eta 0:00:04\n",
            "   ---- ----------------------------------- 1.6/12.6 MB 2.4 MB/s eta 0:00:05\n",
            "   ----- ---------------------------------- 1.8/12.6 MB 2.2 MB/s eta 0:00:05\n",
            "   ------ --------------------------------- 2.1/12.6 MB 2.0 MB/s eta 0:00:06\n",
            "   ------ --------------------------------- 2.1/12.6 MB 2.0 MB/s eta 0:00:06\n",
            "   ------- -------------------------------- 2.4/12.6 MB 1.7 MB/s eta 0:00:06\n",
            "   -------- ------------------------------- 2.6/12.6 MB 1.6 MB/s eta 0:00:07\n",
            "   --------- ------------------------------ 2.9/12.6 MB 1.4 MB/s eta 0:00:07\n",
            "   --------- ------------------------------ 2.9/12.6 MB 1.4 MB/s eta 0:00:07\n",
            "   --------- ------------------------------ 2.9/12.6 MB 1.4 MB/s eta 0:00:07\n",
            "   --------- ------------------------------ 3.1/12.6 MB 1.3 MB/s eta 0:00:08\n",
            "   ---------- ----------------------------- 3.4/12.6 MB 1.2 MB/s eta 0:00:08\n",
            "   ---------- ----------------------------- 3.4/12.6 MB 1.2 MB/s eta 0:00:08\n",
            "   ----------- ---------------------------- 3.7/12.6 MB 1.2 MB/s eta 0:00:08\n",
            "   ------------ --------------------------- 3.9/12.6 MB 1.1 MB/s eta 0:00:08\n",
            "   ------------- -------------------------- 4.2/12.6 MB 1.1 MB/s eta 0:00:08\n",
            "   ------------- -------------------------- 4.2/12.6 MB 1.1 MB/s eta 0:00:08\n",
            "   -------------- ------------------------- 4.5/12.6 MB 1.1 MB/s eta 0:00:08\n",
            "   -------------- ------------------------- 4.5/12.6 MB 1.1 MB/s eta 0:00:08\n",
            "   -------------- ------------------------- 4.7/12.6 MB 1.1 MB/s eta 0:00:08\n",
            "   --------------- ------------------------ 5.0/12.6 MB 1.1 MB/s eta 0:00:08\n",
            "   --------------- ------------------------ 5.0/12.6 MB 1.1 MB/s eta 0:00:08\n",
            "   ---------------- ----------------------- 5.2/12.6 MB 1.0 MB/s eta 0:00:08\n",
            "   ----------------- ---------------------- 5.5/12.6 MB 1.0 MB/s eta 0:00:08\n",
            "   ----------------- ---------------------- 5.5/12.6 MB 1.0 MB/s eta 0:00:08\n",
            "   ------------------ --------------------- 5.8/12.6 MB 989.2 kB/s eta 0:00:07\n",
            "   ------------------ --------------------- 5.8/12.6 MB 989.2 kB/s eta 0:00:07\n",
            "   ------------------ --------------------- 5.8/12.6 MB 989.2 kB/s eta 0:00:07\n",
            "   ------------------- -------------------- 6.0/12.6 MB 948.3 kB/s eta 0:00:07\n",
            "   ------------------- -------------------- 6.3/12.6 MB 939.8 kB/s eta 0:00:07\n",
            "   ------------------- -------------------- 6.3/12.6 MB 939.8 kB/s eta 0:00:07\n",
            "   -------------------- ------------------- 6.6/12.6 MB 935.1 kB/s eta 0:00:07\n",
            "   --------------------- ------------------ 6.8/12.6 MB 927.2 kB/s eta 0:00:07\n",
            "   --------------------- ------------------ 6.8/12.6 MB 927.2 kB/s eta 0:00:07\n",
            "   ---------------------- ----------------- 7.1/12.6 MB 917.4 kB/s eta 0:00:07\n",
            "   ---------------------- ----------------- 7.1/12.6 MB 917.4 kB/s eta 0:00:07\n",
            "   ----------------------- ---------------- 7.3/12.6 MB 906.4 kB/s eta 0:00:06\n",
            "   ----------------------- ---------------- 7.3/12.6 MB 906.4 kB/s eta 0:00:06\n",
            "   ------------------------ --------------- 7.6/12.6 MB 881.9 kB/s eta 0:00:06\n",
            "   ------------------------ --------------- 7.6/12.6 MB 881.9 kB/s eta 0:00:06\n",
            "   ------------------------ --------------- 7.6/12.6 MB 881.9 kB/s eta 0:00:06\n",
            "   ------------------------ --------------- 7.6/12.6 MB 881.9 kB/s eta 0:00:06\n",
            "   ------------------------ --------------- 7.9/12.6 MB 836.3 kB/s eta 0:00:06\n",
            "   ------------------------ --------------- 7.9/12.6 MB 836.3 kB/s eta 0:00:06\n",
            "   ------------------------- -------------- 8.1/12.6 MB 818.1 kB/s eta 0:00:06\n",
            "   ------------------------- -------------- 8.1/12.6 MB 818.1 kB/s eta 0:00:06\n",
            "   ------------------------- -------------- 8.1/12.6 MB 818.1 kB/s eta 0:00:06\n",
            "   -------------------------- ------------- 8.4/12.6 MB 801.8 kB/s eta 0:00:06\n",
            "   -------------------------- ------------- 8.4/12.6 MB 801.8 kB/s eta 0:00:06\n",
            "   -------------------------- ------------- 8.4/12.6 MB 801.8 kB/s eta 0:00:06\n",
            "   --------------------------- ------------ 8.7/12.6 MB 775.8 kB/s eta 0:00:06\n",
            "   ---------------------------- ----------- 8.9/12.6 MB 776.8 kB/s eta 0:00:05\n",
            "   ---------------------------- ----------- 8.9/12.6 MB 776.8 kB/s eta 0:00:05\n",
            "   ----------------------------- ---------- 9.2/12.6 MB 777.7 kB/s eta 0:00:05\n",
            "   ----------------------------- ---------- 9.2/12.6 MB 777.7 kB/s eta 0:00:05\n",
            "   ----------------------------- ---------- 9.4/12.6 MB 776.8 kB/s eta 0:00:05\n",
            "   ------------------------------ --------- 9.7/12.6 MB 777.8 kB/s eta 0:00:04\n",
            "   ------------------------------ --------- 9.7/12.6 MB 777.8 kB/s eta 0:00:04\n",
            "   ------------------------------- -------- 10.0/12.6 MB 769.2 kB/s eta 0:00:04\n",
            "   ------------------------------- -------- 10.0/12.6 MB 769.2 kB/s eta 0:00:04\n",
            "   ------------------------------- -------- 10.0/12.6 MB 769.2 kB/s eta 0:00:04\n",
            "   ------------------------------- -------- 10.0/12.6 MB 769.2 kB/s eta 0:00:04\n",
            "   -------------------------------- ------- 10.2/12.6 MB 738.0 kB/s eta 0:00:04\n",
            "   -------------------------------- ------- 10.2/12.6 MB 738.0 kB/s eta 0:00:04\n",
            "   -------------------------------- ------- 10.2/12.6 MB 738.0 kB/s eta 0:00:04\n",
            "   --------------------------------- ------ 10.5/12.6 MB 727.3 kB/s eta 0:00:03\n",
            "   --------------------------------- ------ 10.5/12.6 MB 727.3 kB/s eta 0:00:03\n",
            "   --------------------------------- ------ 10.5/12.6 MB 727.3 kB/s eta 0:00:03\n",
            "   --------------------------------- ------ 10.5/12.6 MB 727.3 kB/s eta 0:00:03\n",
            "   ---------------------------------- ----- 10.7/12.6 MB 706.5 kB/s eta 0:00:03\n",
            "   ---------------------------------- ----- 11.0/12.6 MB 708.3 kB/s eta 0:00:03\n",
            "   ----------------------------------- ---- 11.3/12.6 MB 714.9 kB/s eta 0:00:02\n",
            "   ------------------------------------ --- 11.5/12.6 MB 723.0 kB/s eta 0:00:02\n",
            "   ------------------------------------- -- 11.8/12.6 MB 730.1 kB/s eta 0:00:02\n",
            "   -------------------------------------- - 12.1/12.6 MB 737.5 kB/s eta 0:00:01\n",
            "   ---------------------------------------  12.3/12.6 MB 742.9 kB/s eta 0:00:01\n",
            "   ---------------------------------------  12.6/12.6 MB 749.5 kB/s eta 0:00:01\n",
            "   ---------------------------------------  12.6/12.6 MB 749.5 kB/s eta 0:00:01\n",
            "   ---------------------------------------- 12.6/12.6 MB 737.3 kB/s eta 0:00:00\n",
            "Downloading pytz-2024.2-py2.py3-none-any.whl (508 kB)\n",
            "Downloading tzdata-2024.2-py2.py3-none-any.whl (346 kB)\n",
            "Installing collected packages: pytz, tzdata, numpy, pandas\n",
            "Successfully installed numpy-2.2.2 pandas-2.2.3 pytz-2024.2 tzdata-2024.2\n",
            "Note: you may need to restart the kernel to use updated packages.\n"
          ]
        }
      ],
      "source": [
        "pip install pandas"
      ]
    },
    {
      "cell_type": "markdown",
      "metadata": {},
      "source": [
        "ETAPA DO DADOS"
      ]
    },
    {
      "cell_type": "code",
      "execution_count": null,
      "metadata": {},
      "outputs": [],
      "source": []
    }
  ],
  "metadata": {
    "colab": {
      "authorship_tag": "ABX9TyNWFz1bjvdMYg61BYTs1LH3",
      "include_colab_link": true,
      "provenance": []
    },
    "kernelspec": {
      "display_name": "Python 3",
      "name": "python3"
    },
    "language_info": {
      "codemirror_mode": {
        "name": "ipython",
        "version": 3
      },
      "file_extension": ".py",
      "mimetype": "text/x-python",
      "name": "python",
      "nbconvert_exporter": "python",
      "pygments_lexer": "ipython3",
      "version": "3.13.1"
    }
  },
  "nbformat": 4,
  "nbformat_minor": 0
}
