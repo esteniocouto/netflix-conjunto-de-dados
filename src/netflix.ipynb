{
  "cells": [
    {
      "cell_type": "markdown",
      "metadata": {
        "id": "view-in-github",
        "colab_type": "text"
      },
      "source": [
        "<a href=\"https://colab.research.google.com/github/esteniocouto/netflix-conjunto-de-dados/blob/main/src/netflix.ipynb\" target=\"_parent\"><img src=\"https://colab.research.google.com/assets/colab-badge.svg\" alt=\"Open In Colab\"/></a>"
      ]
    },
    {
      "cell_type": "markdown",
      "metadata": {
        "id": "gkCfyubnju1S"
      },
      "source": [
        "# bibliotecas"
      ]
    },
    {
      "cell_type": "code",
      "source": [
        "import pandas as pd\n",
        "import glob\n",
        "import os"
      ],
      "metadata": {
        "id": "tFGxo7SFjzFr"
      },
      "execution_count": 1,
      "outputs": []
    },
    {
      "cell_type": "markdown",
      "source": [
        "# **Carregar os arquivos**"
      ],
      "metadata": {
        "id": "Z6jQzf54j0cb"
      }
    },
    {
      "cell_type": "code",
      "source": [
        "!git clone https://github.com/digitalinnovationone/netflix-dataset.git"
      ],
      "metadata": {
        "id": "TSl3dL33pHHy",
        "outputId": "1a62ea13-fb47-4a69-edd9-e53a2cecd138",
        "colab": {
          "base_uri": "https://localhost:8080/"
        }
      },
      "execution_count": 2,
      "outputs": [
        {
          "output_type": "stream",
          "name": "stdout",
          "text": [
            "Cloning into 'netflix-dataset'...\n",
            "remote: Enumerating objects: 27, done.\u001b[K\n",
            "remote: Counting objects: 100% (27/27), done.\u001b[K\n",
            "remote: Compressing objects: 100% (6/6), done.\u001b[K\n",
            "remote: Total 27 (delta 20), reused 24 (delta 20), pack-reused 0 (from 0)\u001b[K\n",
            "Receiving objects: 100% (27/27), 68.85 KiB | 2.87 MiB/s, done.\n",
            "Resolving deltas: 100% (20/20), done.\n"
          ]
        }
      ]
    },
    {
      "cell_type": "markdown",
      "source": [
        "**Os arquivos no repositório clonado**"
      ],
      "metadata": {
        "id": "yT2rGb0BpmtB"
      }
    },
    {
      "cell_type": "code",
      "source": [
        "import os\n",
        "os.listdir('netflix-dataset/raw')"
      ],
      "metadata": {
        "id": "uLCFPom6pTDx",
        "outputId": "1c67f871-f4ac-4a01-d7bc-0f98245484a4",
        "colab": {
          "base_uri": "https://localhost:8080/"
        }
      },
      "execution_count": 35,
      "outputs": [
        {
          "output_type": "execute_result",
          "data": {
            "text/plain": [
              "['netflix_202406_brasil.xlsx',\n",
              " 'netflix_202401_france.xlsx',\n",
              " 'netflix_202402_brasil.xlsx',\n",
              " 'netflix_202406_france.xlsx',\n",
              " 'netflix_202405_brasil.xlsx',\n",
              " 'netflix_202405_france.xlsx',\n",
              " 'netflix_202401_brasil.xlsx',\n",
              " 'netflix_202491_italian.xlsx',\n",
              " 'netflix_202496_italian.xlsx',\n",
              " 'netflix_202404_brasil.xlsx',\n",
              " 'netflix_202403_france.xlsx',\n",
              " 'netflix_202407_brasil.xlsx',\n",
              " 'netflix_202407_france.xlsx',\n",
              " 'netflix_202494_italian.xlsx',\n",
              " 'netflix_202493_italian.xlsx',\n",
              " 'netflix_202403_brasil.xlsx',\n",
              " 'netflix_202495_italian.xlsx',\n",
              " 'netflix_202402_france.xlsx',\n",
              " 'netflix_202497_italian.xlsx',\n",
              " 'netflix_202498_italian.xlsx',\n",
              " 'netflix_202404_france.xlsx',\n",
              " 'netflix_202492_italian.xlsx']"
            ]
          },
          "metadata": {},
          "execution_count": 35
        }
      ]
    },
    {
      "cell_type": "markdown",
      "source": [
        "# Salvar todos arquivos em um DataFreme"
      ],
      "metadata": {
        "id": "RSSHfAEIqYaJ"
      }
    },
    {
      "cell_type": "code",
      "source": [
        "import pandas as pd\n",
        "import os\n",
        "\n",
        "# Caminho para a pasta onde estão os arquivos .xlsx\n",
        "pasta = 'netflix-dataset/raw'  # Altere para o caminho correto da pasta"
      ],
      "metadata": {
        "id": "5jSkcA1itCtI"
      },
      "execution_count": 53,
      "outputs": []
    },
    {
      "cell_type": "code",
      "source": [
        "# Lista para armazenar os DataFrames\n",
        "dfs = []"
      ],
      "metadata": {
        "id": "af2kDn9xtEmo"
      },
      "execution_count": 54,
      "outputs": []
    },
    {
      "cell_type": "code",
      "source": [
        "# Dicionário para mapear padrões para países\n",
        "pais_map = {\n",
        "    'brasil': 'Brasil',\n",
        "    'france': 'França',\n",
        "    'italian': 'Itália'\n",
        "}"
      ],
      "metadata": {
        "id": "cYJmPSXEtF44"
      },
      "execution_count": 55,
      "outputs": []
    },
    {
      "cell_type": "code",
      "source": [
        "# Percorrer todos os arquivos na pasta\n",
        "for arquivo in os.listdir(pasta):\n",
        "    if arquivo.endswith('.xlsx'):\n",
        "        caminho_arquivo = os.path.join(pasta, arquivo)\n",
        "\n",
        "        # Identificar o país no nome do arquivo\n",
        "        pais = None\n",
        "        for chave in pais_map.keys():\n",
        "            if chave in arquivo.lower():  # Verifica se o nome do país está no nome do arquivo\n",
        "                pais = pais_map[chave]\n",
        "                break\n",
        "\n",
        "        # Verifica se o país foi identificado, se não, define como \"Desconhecido\"\n",
        "        if not pais:\n",
        "            pais = 'Desconhecido'\n",
        "# Ler o arquivo .xlsx # this line was incorrectly indented\n",
        "        df = pd.read_excel(caminho_arquivo) # Also changed to 'caminho_arquivo' which contains the full path to the excel file."
      ],
      "metadata": {
        "id": "t4dqlSPGtIBY"
      },
      "execution_count": 56,
      "outputs": []
    },
    {
      "cell_type": "code",
      "source": [
        "# Ler o arquivo .xlsx\n",
        "df = pd.read_excel(caminho_arquivo)"
      ],
      "metadata": {
        "id": "KNWRi9wptvqQ"
      },
      "execution_count": 57,
      "outputs": []
    },
    {
      "cell_type": "code",
      "source": [
        "# Adicionar a coluna com o nome do país\n",
        "df['pais'] = pais"
      ],
      "metadata": {
        "id": "dsr9zh_dutvX"
      },
      "execution_count": 58,
      "outputs": []
    },
    {
      "cell_type": "code",
      "source": [
        "# Adicionar o DataFrame à lista\n",
        "dfs.append(df)"
      ],
      "metadata": {
        "id": "1SL-mk9Xuwtn"
      },
      "execution_count": 59,
      "outputs": []
    },
    {
      "cell_type": "code",
      "source": [
        "# Concatenar todos os DataFrames na lista em um único DataFrame\n",
        "df = pd.concat(dfs, ignore_index=True)"
      ],
      "metadata": {
        "id": "2qgmXFi_u0LH"
      },
      "execution_count": 60,
      "outputs": []
    },
    {
      "cell_type": "code",
      "source": [
        "# Visualizar as primeiras linhas do DataFrame final\n",
        "df.head()"
      ],
      "metadata": {
        "id": "XZs7CBSXu2No",
        "outputId": "63d40209-3141-4997-b86c-bc9884600670",
        "colab": {
          "base_uri": "https://localhost:8080/",
          "height": 206
        }
      },
      "execution_count": 61,
      "outputs": [
        {
          "output_type": "execute_result",
          "data": {
            "text/plain": [
              "   sale_date          Customer  Contracted Plan  Amount  \\\n",
              "0 2026-06-15      Sofia Bianchi   Plano Premium    29.9   \n",
              "1 2026-06-20      Lorenzo Ricci    Plano Básico    12.9   \n",
              "2 2026-06-25     Giorgia Romano    Plano Padrão    19.9   \n",
              "3 2026-07-01     Matteo Moretti   Plano Premium    29.9   \n",
              "4 2026-07-05  Francesca De Luca    Plano Básico    12.9   \n",
              "\n",
              "                                            utm_link  Age    pais  \n",
              "0  https://servicostreaming.com.br?utm_campaign=v...   32  Itália  \n",
              "1  https://servicostreaming.com.br?utm_campaign=e...   27  Itália  \n",
              "2  https://servicostreaming.com.br?utm_campaign=s...   36  Itália  \n",
              "3  https://servicostreaming.com.br?utm_campaign=v...   29  Itália  \n",
              "4  https://servicostreaming.com.br?utm_campaign=e...   26  Itália  "
            ],
            "text/html": [
              "\n",
              "  <div id=\"df-8735d259-fca2-4258-9ed7-291ec7d29347\" class=\"colab-df-container\">\n",
              "    <div>\n",
              "<style scoped>\n",
              "    .dataframe tbody tr th:only-of-type {\n",
              "        vertical-align: middle;\n",
              "    }\n",
              "\n",
              "    .dataframe tbody tr th {\n",
              "        vertical-align: top;\n",
              "    }\n",
              "\n",
              "    .dataframe thead th {\n",
              "        text-align: right;\n",
              "    }\n",
              "</style>\n",
              "<table border=\"1\" class=\"dataframe\">\n",
              "  <thead>\n",
              "    <tr style=\"text-align: right;\">\n",
              "      <th></th>\n",
              "      <th>sale_date</th>\n",
              "      <th>Customer</th>\n",
              "      <th>Contracted Plan</th>\n",
              "      <th>Amount</th>\n",
              "      <th>utm_link</th>\n",
              "      <th>Age</th>\n",
              "      <th>pais</th>\n",
              "    </tr>\n",
              "  </thead>\n",
              "  <tbody>\n",
              "    <tr>\n",
              "      <th>0</th>\n",
              "      <td>2026-06-15</td>\n",
              "      <td>Sofia Bianchi</td>\n",
              "      <td>Plano Premium</td>\n",
              "      <td>29.9</td>\n",
              "      <td>https://servicostreaming.com.br?utm_campaign=v...</td>\n",
              "      <td>32</td>\n",
              "      <td>Itália</td>\n",
              "    </tr>\n",
              "    <tr>\n",
              "      <th>1</th>\n",
              "      <td>2026-06-20</td>\n",
              "      <td>Lorenzo Ricci</td>\n",
              "      <td>Plano Básico</td>\n",
              "      <td>12.9</td>\n",
              "      <td>https://servicostreaming.com.br?utm_campaign=e...</td>\n",
              "      <td>27</td>\n",
              "      <td>Itália</td>\n",
              "    </tr>\n",
              "    <tr>\n",
              "      <th>2</th>\n",
              "      <td>2026-06-25</td>\n",
              "      <td>Giorgia Romano</td>\n",
              "      <td>Plano Padrão</td>\n",
              "      <td>19.9</td>\n",
              "      <td>https://servicostreaming.com.br?utm_campaign=s...</td>\n",
              "      <td>36</td>\n",
              "      <td>Itália</td>\n",
              "    </tr>\n",
              "    <tr>\n",
              "      <th>3</th>\n",
              "      <td>2026-07-01</td>\n",
              "      <td>Matteo Moretti</td>\n",
              "      <td>Plano Premium</td>\n",
              "      <td>29.9</td>\n",
              "      <td>https://servicostreaming.com.br?utm_campaign=v...</td>\n",
              "      <td>29</td>\n",
              "      <td>Itália</td>\n",
              "    </tr>\n",
              "    <tr>\n",
              "      <th>4</th>\n",
              "      <td>2026-07-05</td>\n",
              "      <td>Francesca De Luca</td>\n",
              "      <td>Plano Básico</td>\n",
              "      <td>12.9</td>\n",
              "      <td>https://servicostreaming.com.br?utm_campaign=e...</td>\n",
              "      <td>26</td>\n",
              "      <td>Itália</td>\n",
              "    </tr>\n",
              "  </tbody>\n",
              "</table>\n",
              "</div>\n",
              "    <div class=\"colab-df-buttons\">\n",
              "\n",
              "  <div class=\"colab-df-container\">\n",
              "    <button class=\"colab-df-convert\" onclick=\"convertToInteractive('df-8735d259-fca2-4258-9ed7-291ec7d29347')\"\n",
              "            title=\"Convert this dataframe to an interactive table.\"\n",
              "            style=\"display:none;\">\n",
              "\n",
              "  <svg xmlns=\"http://www.w3.org/2000/svg\" height=\"24px\" viewBox=\"0 -960 960 960\">\n",
              "    <path d=\"M120-120v-720h720v720H120Zm60-500h600v-160H180v160Zm220 220h160v-160H400v160Zm0 220h160v-160H400v160ZM180-400h160v-160H180v160Zm440 0h160v-160H620v160ZM180-180h160v-160H180v160Zm440 0h160v-160H620v160Z\"/>\n",
              "  </svg>\n",
              "    </button>\n",
              "\n",
              "  <style>\n",
              "    .colab-df-container {\n",
              "      display:flex;\n",
              "      gap: 12px;\n",
              "    }\n",
              "\n",
              "    .colab-df-convert {\n",
              "      background-color: #E8F0FE;\n",
              "      border: none;\n",
              "      border-radius: 50%;\n",
              "      cursor: pointer;\n",
              "      display: none;\n",
              "      fill: #1967D2;\n",
              "      height: 32px;\n",
              "      padding: 0 0 0 0;\n",
              "      width: 32px;\n",
              "    }\n",
              "\n",
              "    .colab-df-convert:hover {\n",
              "      background-color: #E2EBFA;\n",
              "      box-shadow: 0px 1px 2px rgba(60, 64, 67, 0.3), 0px 1px 3px 1px rgba(60, 64, 67, 0.15);\n",
              "      fill: #174EA6;\n",
              "    }\n",
              "\n",
              "    .colab-df-buttons div {\n",
              "      margin-bottom: 4px;\n",
              "    }\n",
              "\n",
              "    [theme=dark] .colab-df-convert {\n",
              "      background-color: #3B4455;\n",
              "      fill: #D2E3FC;\n",
              "    }\n",
              "\n",
              "    [theme=dark] .colab-df-convert:hover {\n",
              "      background-color: #434B5C;\n",
              "      box-shadow: 0px 1px 3px 1px rgba(0, 0, 0, 0.15);\n",
              "      filter: drop-shadow(0px 1px 2px rgba(0, 0, 0, 0.3));\n",
              "      fill: #FFFFFF;\n",
              "    }\n",
              "  </style>\n",
              "\n",
              "    <script>\n",
              "      const buttonEl =\n",
              "        document.querySelector('#df-8735d259-fca2-4258-9ed7-291ec7d29347 button.colab-df-convert');\n",
              "      buttonEl.style.display =\n",
              "        google.colab.kernel.accessAllowed ? 'block' : 'none';\n",
              "\n",
              "      async function convertToInteractive(key) {\n",
              "        const element = document.querySelector('#df-8735d259-fca2-4258-9ed7-291ec7d29347');\n",
              "        const dataTable =\n",
              "          await google.colab.kernel.invokeFunction('convertToInteractive',\n",
              "                                                    [key], {});\n",
              "        if (!dataTable) return;\n",
              "\n",
              "        const docLinkHtml = 'Like what you see? Visit the ' +\n",
              "          '<a target=\"_blank\" href=https://colab.research.google.com/notebooks/data_table.ipynb>data table notebook</a>'\n",
              "          + ' to learn more about interactive tables.';\n",
              "        element.innerHTML = '';\n",
              "        dataTable['output_type'] = 'display_data';\n",
              "        await google.colab.output.renderOutput(dataTable, element);\n",
              "        const docLink = document.createElement('div');\n",
              "        docLink.innerHTML = docLinkHtml;\n",
              "        element.appendChild(docLink);\n",
              "      }\n",
              "    </script>\n",
              "  </div>\n",
              "\n",
              "\n",
              "<div id=\"df-19157984-24c9-4a84-8cf2-a04fc35fb0ec\">\n",
              "  <button class=\"colab-df-quickchart\" onclick=\"quickchart('df-19157984-24c9-4a84-8cf2-a04fc35fb0ec')\"\n",
              "            title=\"Suggest charts\"\n",
              "            style=\"display:none;\">\n",
              "\n",
              "<svg xmlns=\"http://www.w3.org/2000/svg\" height=\"24px\"viewBox=\"0 0 24 24\"\n",
              "     width=\"24px\">\n",
              "    <g>\n",
              "        <path d=\"M19 3H5c-1.1 0-2 .9-2 2v14c0 1.1.9 2 2 2h14c1.1 0 2-.9 2-2V5c0-1.1-.9-2-2-2zM9 17H7v-7h2v7zm4 0h-2V7h2v10zm4 0h-2v-4h2v4z\"/>\n",
              "    </g>\n",
              "</svg>\n",
              "  </button>\n",
              "\n",
              "<style>\n",
              "  .colab-df-quickchart {\n",
              "      --bg-color: #E8F0FE;\n",
              "      --fill-color: #1967D2;\n",
              "      --hover-bg-color: #E2EBFA;\n",
              "      --hover-fill-color: #174EA6;\n",
              "      --disabled-fill-color: #AAA;\n",
              "      --disabled-bg-color: #DDD;\n",
              "  }\n",
              "\n",
              "  [theme=dark] .colab-df-quickchart {\n",
              "      --bg-color: #3B4455;\n",
              "      --fill-color: #D2E3FC;\n",
              "      --hover-bg-color: #434B5C;\n",
              "      --hover-fill-color: #FFFFFF;\n",
              "      --disabled-bg-color: #3B4455;\n",
              "      --disabled-fill-color: #666;\n",
              "  }\n",
              "\n",
              "  .colab-df-quickchart {\n",
              "    background-color: var(--bg-color);\n",
              "    border: none;\n",
              "    border-radius: 50%;\n",
              "    cursor: pointer;\n",
              "    display: none;\n",
              "    fill: var(--fill-color);\n",
              "    height: 32px;\n",
              "    padding: 0;\n",
              "    width: 32px;\n",
              "  }\n",
              "\n",
              "  .colab-df-quickchart:hover {\n",
              "    background-color: var(--hover-bg-color);\n",
              "    box-shadow: 0 1px 2px rgba(60, 64, 67, 0.3), 0 1px 3px 1px rgba(60, 64, 67, 0.15);\n",
              "    fill: var(--button-hover-fill-color);\n",
              "  }\n",
              "\n",
              "  .colab-df-quickchart-complete:disabled,\n",
              "  .colab-df-quickchart-complete:disabled:hover {\n",
              "    background-color: var(--disabled-bg-color);\n",
              "    fill: var(--disabled-fill-color);\n",
              "    box-shadow: none;\n",
              "  }\n",
              "\n",
              "  .colab-df-spinner {\n",
              "    border: 2px solid var(--fill-color);\n",
              "    border-color: transparent;\n",
              "    border-bottom-color: var(--fill-color);\n",
              "    animation:\n",
              "      spin 1s steps(1) infinite;\n",
              "  }\n",
              "\n",
              "  @keyframes spin {\n",
              "    0% {\n",
              "      border-color: transparent;\n",
              "      border-bottom-color: var(--fill-color);\n",
              "      border-left-color: var(--fill-color);\n",
              "    }\n",
              "    20% {\n",
              "      border-color: transparent;\n",
              "      border-left-color: var(--fill-color);\n",
              "      border-top-color: var(--fill-color);\n",
              "    }\n",
              "    30% {\n",
              "      border-color: transparent;\n",
              "      border-left-color: var(--fill-color);\n",
              "      border-top-color: var(--fill-color);\n",
              "      border-right-color: var(--fill-color);\n",
              "    }\n",
              "    40% {\n",
              "      border-color: transparent;\n",
              "      border-right-color: var(--fill-color);\n",
              "      border-top-color: var(--fill-color);\n",
              "    }\n",
              "    60% {\n",
              "      border-color: transparent;\n",
              "      border-right-color: var(--fill-color);\n",
              "    }\n",
              "    80% {\n",
              "      border-color: transparent;\n",
              "      border-right-color: var(--fill-color);\n",
              "      border-bottom-color: var(--fill-color);\n",
              "    }\n",
              "    90% {\n",
              "      border-color: transparent;\n",
              "      border-bottom-color: var(--fill-color);\n",
              "    }\n",
              "  }\n",
              "</style>\n",
              "\n",
              "  <script>\n",
              "    async function quickchart(key) {\n",
              "      const quickchartButtonEl =\n",
              "        document.querySelector('#' + key + ' button');\n",
              "      quickchartButtonEl.disabled = true;  // To prevent multiple clicks.\n",
              "      quickchartButtonEl.classList.add('colab-df-spinner');\n",
              "      try {\n",
              "        const charts = await google.colab.kernel.invokeFunction(\n",
              "            'suggestCharts', [key], {});\n",
              "      } catch (error) {\n",
              "        console.error('Error during call to suggestCharts:', error);\n",
              "      }\n",
              "      quickchartButtonEl.classList.remove('colab-df-spinner');\n",
              "      quickchartButtonEl.classList.add('colab-df-quickchart-complete');\n",
              "    }\n",
              "    (() => {\n",
              "      let quickchartButtonEl =\n",
              "        document.querySelector('#df-19157984-24c9-4a84-8cf2-a04fc35fb0ec button');\n",
              "      quickchartButtonEl.style.display =\n",
              "        google.colab.kernel.accessAllowed ? 'block' : 'none';\n",
              "    })();\n",
              "  </script>\n",
              "</div>\n",
              "\n",
              "    </div>\n",
              "  </div>\n"
            ],
            "application/vnd.google.colaboratory.intrinsic+json": {
              "type": "dataframe",
              "variable_name": "df",
              "summary": "{\n  \"name\": \"df\",\n  \"rows\": 14,\n  \"fields\": [\n    {\n      \"column\": \"sale_date\",\n      \"properties\": {\n        \"dtype\": \"date\",\n        \"min\": \"2026-06-15 00:00:00\",\n        \"max\": \"2026-08-20 00:00:00\",\n        \"num_unique_values\": 14,\n        \"samples\": [\n          \"2026-08-01 00:00:00\",\n          \"2026-08-10 00:00:00\",\n          \"2026-06-15 00:00:00\"\n        ],\n        \"semantic_type\": \"\",\n        \"description\": \"\"\n      }\n    },\n    {\n      \"column\": \"Customer \",\n      \"properties\": {\n        \"dtype\": \"string\",\n        \"num_unique_values\": 14,\n        \"samples\": [\n          \"Luca Barbieri\",\n          \"Pietro Moretti\",\n          \"Sofia Bianchi\"\n        ],\n        \"semantic_type\": \"\",\n        \"description\": \"\"\n      }\n    },\n    {\n      \"column\": \"Contracted Plan\",\n      \"properties\": {\n        \"dtype\": \"category\",\n        \"num_unique_values\": 3,\n        \"samples\": [\n          \"Plano Premium\",\n          \"Plano B\\u00e1sico\",\n          \"Plano Padr\\u00e3o\"\n        ],\n        \"semantic_type\": \"\",\n        \"description\": \"\"\n      }\n    },\n    {\n      \"column\": \"Amount\",\n      \"properties\": {\n        \"dtype\": \"number\",\n        \"std\": 7.488085774844502,\n        \"min\": 12.9,\n        \"max\": 29.9,\n        \"num_unique_values\": 3,\n        \"samples\": [\n          29.9,\n          12.9,\n          19.9\n        ],\n        \"semantic_type\": \"\",\n        \"description\": \"\"\n      }\n    },\n    {\n      \"column\": \"utm_link\",\n      \"properties\": {\n        \"dtype\": \"string\",\n        \"num_unique_values\": 14,\n        \"samples\": [\n          \"https://servicostreaming.com.br?utm_campaign=viaggio4\",\n          \"https://servicostreaming.com.br?utm_campaign=scoperta4\",\n          \"https://servicostreaming.com.br?utm_campaign=viaggio1\"\n        ],\n        \"semantic_type\": \"\",\n        \"description\": \"\"\n      }\n    },\n    {\n      \"column\": \"Age\",\n      \"properties\": {\n        \"dtype\": \"number\",\n        \"std\": 4,\n        \"min\": 25,\n        \"max\": 40,\n        \"num_unique_values\": 12,\n        \"samples\": [\n          28,\n          31,\n          32\n        ],\n        \"semantic_type\": \"\",\n        \"description\": \"\"\n      }\n    },\n    {\n      \"column\": \"pais\",\n      \"properties\": {\n        \"dtype\": \"category\",\n        \"num_unique_values\": 1,\n        \"samples\": [\n          \"It\\u00e1lia\"\n        ],\n        \"semantic_type\": \"\",\n        \"description\": \"\"\n      }\n    }\n  ]\n}"
            }
          },
          "metadata": {},
          "execution_count": 61
        }
      ]
    },
    {
      "cell_type": "code",
      "source": [
        "\n",
        "# Criando uma nova coluna 'campanha' com o conteúdo após o símbolo '=' usando expressão regular\n",
        "df['campanha'] = df['utm_link'].str.extract(r'=(.*)')\n",
        "\n",
        "# Exibindo o DataFrame resultante\n",
        "print(df)"
      ],
      "metadata": {
        "id": "G4WpkJxtw3eX",
        "outputId": "2801b49b-cacf-46bf-fe74-41c09fe12f2b",
        "colab": {
          "base_uri": "https://localhost:8080/"
        }
      },
      "execution_count": 64,
      "outputs": [
        {
          "output_type": "stream",
          "name": "stdout",
          "text": [
            "    sale_date           Customer  Contracted Plan  Amount  \\\n",
            "0  2026-06-15       Sofia Bianchi   Plano Premium    29.9   \n",
            "1  2026-06-20       Lorenzo Ricci    Plano Básico    12.9   \n",
            "2  2026-06-25      Giorgia Romano    Plano Padrão    19.9   \n",
            "3  2026-07-01      Matteo Moretti   Plano Premium    29.9   \n",
            "4  2026-07-05   Francesca De Luca    Plano Básico    12.9   \n",
            "5  2026-07-10      Giovanni Conti    Plano Padrão    19.9   \n",
            "6  2026-07-15        Chiara Gallo   Plano Premium    29.9   \n",
            "7  2026-07-20       Marco Ferrari    Plano Básico    12.9   \n",
            "8  2026-07-25      Alessia Marini    Plano Padrão    19.9   \n",
            "9  2026-08-01       Luca Barbieri   Plano Premium    29.9   \n",
            "10 2026-08-05         Elisa Russo    Plano Básico    12.9   \n",
            "11 2026-08-10      Pietro Moretti    Plano Padrão    19.9   \n",
            "12 2026-08-15  Martina De Angelis   Plano Premium    29.9   \n",
            "13 2026-08-20      Federico Ricci    Plano Básico    12.9   \n",
            "\n",
            "                                             utm_link  Age    pais  \\\n",
            "0   https://servicostreaming.com.br?utm_campaign=v...   32  Itália   \n",
            "1   https://servicostreaming.com.br?utm_campaign=e...   27  Itália   \n",
            "2   https://servicostreaming.com.br?utm_campaign=s...   36  Itália   \n",
            "3   https://servicostreaming.com.br?utm_campaign=v...   29  Itália   \n",
            "4   https://servicostreaming.com.br?utm_campaign=e...   26  Itália   \n",
            "5   https://servicostreaming.com.br?utm_campaign=s...   37  Itália   \n",
            "6   https://servicostreaming.com.br?utm_campaign=v...   34  Itália   \n",
            "7   https://servicostreaming.com.br?utm_campaign=e...   25  Itália   \n",
            "8   https://servicostreaming.com.br?utm_campaign=s...   40  Itália   \n",
            "9   https://servicostreaming.com.br?utm_campaign=v...   31  Itália   \n",
            "10  https://servicostreaming.com.br?utm_campaign=e...   28  Itália   \n",
            "11  https://servicostreaming.com.br?utm_campaign=s...   39  Itália   \n",
            "12  https://servicostreaming.com.br?utm_campaign=v...   32  Itália   \n",
            "13  https://servicostreaming.com.br?utm_campaign=e...   27  Itália   \n",
            "\n",
            "       campanha  \n",
            "0      viaggio1  \n",
            "1   esperienza1  \n",
            "2     scoperta1  \n",
            "3      viaggio2  \n",
            "4   esperienza2  \n",
            "5     scoperta2  \n",
            "6      viaggio3  \n",
            "7   esperienza3  \n",
            "8     scoperta3  \n",
            "9      viaggio4  \n",
            "10  esperienza4  \n",
            "11    scoperta4  \n",
            "12     viaggio5  \n",
            "13  esperienza5  \n"
          ]
        }
      ]
    },
    {
      "cell_type": "code",
      "source": [
        "# Excluir a coluna 'utm_link'\n",
        "df.drop('utm_link', axis=1, inplace=True)\n",
        "\n",
        "# Exibir o DataFrame após a exclusão da coluna\n",
        "print(df)"
      ],
      "metadata": {
        "id": "meUguM89x04B",
        "outputId": "25e1ea1f-5f81-4462-f652-8796ea0bd413",
        "colab": {
          "base_uri": "https://localhost:8080/"
        }
      },
      "execution_count": 65,
      "outputs": [
        {
          "output_type": "stream",
          "name": "stdout",
          "text": [
            "    sale_date           Customer  Contracted Plan  Amount  Age    pais  \\\n",
            "0  2026-06-15       Sofia Bianchi   Plano Premium    29.9   32  Itália   \n",
            "1  2026-06-20       Lorenzo Ricci    Plano Básico    12.9   27  Itália   \n",
            "2  2026-06-25      Giorgia Romano    Plano Padrão    19.9   36  Itália   \n",
            "3  2026-07-01      Matteo Moretti   Plano Premium    29.9   29  Itália   \n",
            "4  2026-07-05   Francesca De Luca    Plano Básico    12.9   26  Itália   \n",
            "5  2026-07-10      Giovanni Conti    Plano Padrão    19.9   37  Itália   \n",
            "6  2026-07-15        Chiara Gallo   Plano Premium    29.9   34  Itália   \n",
            "7  2026-07-20       Marco Ferrari    Plano Básico    12.9   25  Itália   \n",
            "8  2026-07-25      Alessia Marini    Plano Padrão    19.9   40  Itália   \n",
            "9  2026-08-01       Luca Barbieri   Plano Premium    29.9   31  Itália   \n",
            "10 2026-08-05         Elisa Russo    Plano Básico    12.9   28  Itália   \n",
            "11 2026-08-10      Pietro Moretti    Plano Padrão    19.9   39  Itália   \n",
            "12 2026-08-15  Martina De Angelis   Plano Premium    29.9   32  Itália   \n",
            "13 2026-08-20      Federico Ricci    Plano Básico    12.9   27  Itália   \n",
            "\n",
            "       campanha  \n",
            "0      viaggio1  \n",
            "1   esperienza1  \n",
            "2     scoperta1  \n",
            "3      viaggio2  \n",
            "4   esperienza2  \n",
            "5     scoperta2  \n",
            "6      viaggio3  \n",
            "7   esperienza3  \n",
            "8     scoperta3  \n",
            "9      viaggio4  \n",
            "10  esperienza4  \n",
            "11    scoperta4  \n",
            "12     viaggio5  \n",
            "13  esperienza5  \n"
          ]
        }
      ]
    },
    {
      "cell_type": "code",
      "source": [
        "# Salvar o DataFrame em um arquivo Excel\n",
        "df.to_excel('meu_arquivo.xlsx', index=False)\n",
        "\n",
        "print(\"Arquivo salvo com sucesso!\")"
      ],
      "metadata": {
        "id": "OwXc4ccNyF2e",
        "outputId": "e09045f4-2ecd-4455-c319-40b70ba7d4ce",
        "colab": {
          "base_uri": "https://localhost:8080/"
        }
      },
      "execution_count": 66,
      "outputs": [
        {
          "output_type": "stream",
          "name": "stdout",
          "text": [
            "Arquivo salvo com sucesso!\n"
          ]
        }
      ]
    }
  ],
  "metadata": {
    "colab": {
      "provenance": [],
      "include_colab_link": true
    },
    "kernelspec": {
      "display_name": "Python 3",
      "name": "python3"
    },
    "language_info": {
      "codemirror_mode": {
        "name": "ipython",
        "version": 3
      },
      "file_extension": ".py",
      "mimetype": "text/x-python",
      "name": "python",
      "nbconvert_exporter": "python",
      "pygments_lexer": "ipython3",
      "version": "3.13.1"
    }
  },
  "nbformat": 4,
  "nbformat_minor": 0
}